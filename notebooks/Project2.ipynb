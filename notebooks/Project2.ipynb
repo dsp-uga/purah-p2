{
 "cells": [
  {
   "cell_type": "code",
   "execution_count": 1,
   "metadata": {},
   "outputs": [],
   "source": [
    "import numpy as np\n",
    "import pandas as pd\n",
    "import random\n",
    "from sklearn.model_selection import train_test_split, cross_val_score\n",
    "from sklearn import neighbors, datasets\n",
    "from sklearn.ensemble import RandomForestClassifier\n",
    "from sklearn.linear_model import ElasticNet, ElasticNetCV\n",
    "from sklearn.discriminant_analysis import LinearDiscriminantAnalysis, QuadraticDiscriminantAnalysis\n",
    "from sklearn.linear_model import LogisticRegression, LogisticRegressionCV\n",
    "from sklearn.metrics import confusion_matrix, classification_report\n",
    "from sklearn.decomposition import PCA \n",
    "%matplotlib inline"
   ]
  },
  {
   "cell_type": "code",
   "execution_count": 24,
   "metadata": {},
   "outputs": [],
   "source": [
    "train = pd.read_csv('project2_files_X_train.csv')\n",
    "# split data into train and test\n",
    "test_small = pd.read_csv('project2_files_X_small_test.csv')\n",
    "testa = pd.read_csv('project2_files_Xa_test.csv')\n",
    "testb = pd.read_csv('project2_files_Xb_test.csv')\n",
    "testc = pd.read_csv('project2_files_Xc_test.csv')\n",
    "X_train = train.iloc[:,145:184]\n",
    "y_train = train['Sex (subj)']\n",
    "X_small_test = test_small.iloc[:,145:184]\n",
    "y_small_test = test_small['Sex (subj)']\n",
    "Xa_test = testa.iloc[:,145:184]\n",
    "Xb_test = testb.iloc[:,145:184]\n",
    "Xc_test = testc.iloc[:,145:184]"
   ]
  },
  {
   "cell_type": "code",
   "execution_count": 14,
   "metadata": {},
   "outputs": [
    {
     "data": {
      "text/plain": [
       "0.9125475285171103"
      ]
     },
     "execution_count": 14,
     "metadata": {},
     "output_type": "execute_result"
    }
   ],
   "source": [
    "# use a Kth nearest neighbors model\n",
    "knn = neighbors.KNeighborsClassifier(n_neighbors=1, weights='uniform')\n",
    "knn.fit(X_train, y_train)\n",
    "knn.score(X_small_test, y_small_test)"
   ]
  },
  {
   "cell_type": "code",
   "execution_count": 25,
   "metadata": {},
   "outputs": [
    {
     "name": "stdout",
     "output_type": "stream",
     "text": [
      "LDA accuracy: 0.752851711026616\n",
      "QDA accuracy: 0.6653992395437263\n"
     ]
    }
   ],
   "source": [
    "# use linear discrimitive analysis(LDA) and QDA\n",
    "LDA = LinearDiscriminantAnalysis()\n",
    "LDA.fit(X_train, y_train)\n",
    "QDA = QuadraticDiscriminantAnalysis()\n",
    "QDA.fit(X_train, y_train)\n",
    "print('LDA accuracy:', LDA.score(X_small_test, y_small_test))\n",
    "print('QDA accuracy:', QDA.score(X_small_test, y_small_test))"
   ]
  },
  {
   "cell_type": "code",
   "execution_count": 6,
   "metadata": {},
   "outputs": [],
   "source": [
    "# use a logistic regression model\n",
    "log = LogisticRegression(random_state=0, max_iter=5000).fit(X_train_best, y_train)\n",
    "log.score(X_small_best, y_small_test)"
   ]
  },
  {
   "cell_type": "code",
   "execution_count": 15,
   "metadata": {},
   "outputs": [],
   "source": [
    "ya_knn = knn.predict(Xa_test)\n",
    "yb_knn = knn.predict(Xb_test)\n",
    "yc_knn = knn.predict(Xc_test)"
   ]
  },
  {
   "cell_type": "code",
   "execution_count": 21,
   "metadata": {},
   "outputs": [],
   "source": [
    "ya_LDA = LDA.predict(Xa_test)\n",
    "yb_LDA = LDA.predict(Xb_test)\n",
    "yc_LDA = LDA.predict(Xc_test)"
   ]
  },
  {
   "cell_type": "code",
   "execution_count": 22,
   "metadata": {},
   "outputs": [],
   "source": [
    "ya = ya_LDA\n",
    "yb = yb_LDA\n",
    "yc = yc_LDA\n",
    "\n",
    "with open(\"ya.txt\", \"w\") as output:\n",
    "    for row in range(len(ya)-1):\n",
    "        output.write(str(int(ya[row])) + '\\n')\n",
    "    output.write(str(int(ya[row])))\n",
    "with open(\"yb.txt\", \"w\") as output:\n",
    "    for row in range(len(yb)-1):\n",
    "        output.write(str(int(yb[row])) + '\\n')\n",
    "    output.write(str(int(yb[row])))\n",
    "with open(\"yc.txt\", \"w\") as output:\n",
    "    for row in range(len(yc)-1):\n",
    "        output.write(str(int(yc[row])) + '\\n')\n",
    "    output.write(str(int(yc[row])))"
   ]
  },
  {
   "cell_type": "code",
   "execution_count": 23,
   "metadata": {},
   "outputs": [
    {
     "name": "stderr",
     "output_type": "stream",
     "text": [
      "a ya.txt\n",
      "a yb.txt\n",
      "a yc.txt\n"
     ]
    }
   ],
   "source": [
    "!tar cvf p2.tar *.txt"
   ]
  },
  {
   "cell_type": "code",
   "execution_count": null,
   "metadata": {},
   "outputs": [],
   "source": []
  }
 ],
 "metadata": {
  "kernelspec": {
   "display_name": "Python 3",
   "language": "python",
   "name": "python3"
  },
  "language_info": {
   "codemirror_mode": {
    "name": "ipython",
    "version": 3
   },
   "file_extension": ".py",
   "mimetype": "text/x-python",
   "name": "python",
   "nbconvert_exporter": "python",
   "pygments_lexer": "ipython3",
   "version": "3.8.5"
  }
 },
 "nbformat": 4,
 "nbformat_minor": 4
}
